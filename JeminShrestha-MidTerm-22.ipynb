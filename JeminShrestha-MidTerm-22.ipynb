{
 "cells": [
  {
   "cell_type": "markdown",
   "id": "41cb82e7",
   "metadata": {},
   "source": [
    "# Question 22\n",
    "\n",
    "\n",
    "In a jupyter notebook solve the following question using both python and SQL. Please upload the notebook to GitHub and provide the link submission box below.\n",
    "\n",
    "\n",
    "\n",
    "| Column Name   | Type    |\n",
    "|---------------|---------|\n",
    "| id            | int     |\n",
    "| recordDate    | date    |\n",
    "| temperature   | int     |\n",
    "\n",
    "\n",
    "id is the column with unique values for this table.\n",
    "This table contains information about the temperature on a certain day.\n",
    " \n",
    " \n",
    "\n",
    "Write a solution to find all dates' Id with higher temperatures compared to its previous dates (yesterday).\n",
    "\n",
    "Return the result table in any order.\n",
    "\n",
    "Please use the following input Weather table for your solution. To receive full marks you will need to create the database, create the table, insert the data below and execute the SQL query.\n",
    "\n",
    " \n",
    "\n",
    "Input: \n",
    "Weather table:\n",
    "| id | recordDate | temperature |\n",
    "|----|------------|-------------|\n",
    "| 1  | 2015-01-01 | 10          |\n",
    "| 2  | 2015-01-02 | 25          |\n",
    "| 3  | 2015-01-03 | 20          |\n",
    "| 4  | 2015-01-04 | 30          |\n",
    "\n",
    "Output: \n",
    "| id |\n",
    "|----|\n",
    "| 2  |\n",
    "| 4  |\n",
    "\n",
    "Explanation: \n",
    "* In 2015-01-02, the temperature was higher than the previous day (10 -> 25).\n",
    "* In 2015-01-04, the temperature was higher than the previous day (20 -> 30)."
   ]
  },
  {
   "cell_type": "code",
   "execution_count": 1,
   "id": "02d4de26",
   "metadata": {},
   "outputs": [
    {
     "name": "stdout",
     "output_type": "stream",
     "text": [
      "2\n",
      "4\n"
     ]
    }
   ],
   "source": [
    "import sqlite3\n",
    "\n",
    "#Creating connection to the SQLLite DB\n",
    "conn = sqlite3.connect('weather.db')\n",
    "cur = conn.cursor()\n",
    "\n",
    "#Creating the Weather table with IF NOT EXISTS syntax\n",
    "cur.execute('''\n",
    "    CREATE TABLE IF NOT EXISTS Weather (\n",
    "        id INT PRIMARY KEY,\n",
    "        recordDate DATE,\n",
    "        temperature INT\n",
    "    )\n",
    "''')\n",
    "\n",
    "#Inserting data into the weather table\n",
    "cur.executemany('''\n",
    "    INSERT INTO Weather (id, recordDate, temperature)\n",
    "    VALUES (?, ?, ?)\n",
    "''', [(1, '2015-01-01', 10), (2, '2015-01-02', 25), (3, '2015-01-03', 20), (4, '2015-01-04', 30)])\n",
    "\n",
    "#Execute SQL Query to find out the highest temp.\n",
    "\n",
    "cur.execute('''\n",
    "    SELECT\n",
    "        w1.id\n",
    "    FROM\n",
    "        Weather w1\n",
    "    LEFT JOIN\n",
    "        Weather w2 ON w1.id = w2.id + 1\n",
    "    WHERE\n",
    "        (w1.temperature > w2.temperature OR w2.id IS NULL)\n",
    "        AND w2.temperature IS NOT NULL\n",
    "''')\n",
    "\n",
    "#Fetching the results and first column ID field\n",
    "result = cur.fetchall()\n",
    "for row in result:\n",
    "    print(row[0])\n",
    "\n",
    "#Close the DB connection\n",
    "conn.close()"
   ]
  },
  {
   "cell_type": "code",
   "execution_count": null,
   "id": "5dd5cd02",
   "metadata": {},
   "outputs": [],
   "source": []
  }
 ],
 "metadata": {
  "kernelspec": {
   "display_name": "Python 3 (ipykernel)",
   "language": "python",
   "name": "python3"
  },
  "language_info": {
   "codemirror_mode": {
    "name": "ipython",
    "version": 3
   },
   "file_extension": ".py",
   "mimetype": "text/x-python",
   "name": "python",
   "nbconvert_exporter": "python",
   "pygments_lexer": "ipython3",
   "version": "3.11.4"
  }
 },
 "nbformat": 4,
 "nbformat_minor": 5
}
