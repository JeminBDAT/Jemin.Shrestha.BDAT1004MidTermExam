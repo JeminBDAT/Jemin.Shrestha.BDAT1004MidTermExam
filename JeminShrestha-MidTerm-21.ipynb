{
 "cells": [
  {
   "cell_type": "markdown",
   "id": "0fc87c60",
   "metadata": {},
   "source": [
    "# Question 21\n",
    "\n",
    "##### In a jupyter notebook solve the following question. Please upload the notebook to GitHub and provide the link submission box below.\n",
    "\n",
    " \n",
    "\n",
    "`__int()__`: Constructor that takes as input a pair of Point objects that represent the ends points of the line segment\n",
    "\n",
    "Length():: returns the length if the segment \n",
    "\n",
    "Slope() returns the slope of the segment of none if the slope is unbounded \n",
    "\n",
    " \n",
    " p1 = Point(3,4)\n",
    "\n",
    " p2 = Point()\n",
    "\n",
    " s = Segment(p1,p2)\n",
    "\n",
    " s.length()\n",
    "\n",
    "5.0\n",
    "\n",
    " s.slope()\n",
    "\n",
    "0.75\n",
    "`"
   ]
  },
  {
   "cell_type": "code",
   "execution_count": 2,
   "id": "8e56e615",
   "metadata": {},
   "outputs": [],
   "source": [
    "# This Point class holds the attributes for x and y coordinates.\n",
    "class Point:\n",
    "    def __init__(self, x=0, y=0):\n",
    "        self.x = x\n",
    "        self.y = y\n",
    "\n",
    "# Represents line segments\n",
    "class Segment:\n",
    "    def __init__(self, point1, point2):\n",
    "        self.point1 = point1\n",
    "        self.point2 = point2\n",
    "    # The length function calculates the length of the line segment using Pythagoreas theorem i.e. Square Root of dx^2 + dy^2 \n",
    "    def length(self):\n",
    "        dx = self.point1.x - self.point2.x\n",
    "        dy = self.point1.y - self.point2.y\n",
    "        return ((dx ** 2) + (dy ** 2)) ** 0.5\n",
    "    # Calculates the slope of the line segment using the formula: Change in y/ Change in x\n",
    "    def slope(self):\n",
    "        if self.point1.x == self.point2.x:\n",
    "            return None  # Returns if the slope is unbounded\n",
    "        else:\n",
    "            return (self.point1.y - self.point2.y) / (self.point1.x - self.point2.x)"
   ]
  },
  {
   "cell_type": "code",
   "execution_count": 3,
   "id": "2e7576d9",
   "metadata": {},
   "outputs": [
    {
     "name": "stdout",
     "output_type": "stream",
     "text": [
      "5.0\n",
      "1.3333333333333333\n"
     ]
    }
   ],
   "source": [
    "p1 = Point(3, 4)\n",
    "p2 = Point()\n",
    "s = Segment(p1, p2)\n",
    "print(s.length())  \n",
    "print(s.slope())  "
   ]
  },
  {
   "cell_type": "code",
   "execution_count": null,
   "id": "dfe8ee6d",
   "metadata": {},
   "outputs": [],
   "source": []
  }
 ],
 "metadata": {
  "kernelspec": {
   "display_name": "Python 3 (ipykernel)",
   "language": "python",
   "name": "python3"
  },
  "language_info": {
   "codemirror_mode": {
    "name": "ipython",
    "version": 3
   },
   "file_extension": ".py",
   "mimetype": "text/x-python",
   "name": "python",
   "nbconvert_exporter": "python",
   "pygments_lexer": "ipython3",
   "version": "3.11.4"
  }
 },
 "nbformat": 4,
 "nbformat_minor": 5
}
