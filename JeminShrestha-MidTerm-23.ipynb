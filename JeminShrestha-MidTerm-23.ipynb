{
 "cells": [
  {
   "cell_type": "markdown",
   "id": "0bfbf50e",
   "metadata": {},
   "source": [
    "# Question 23\n",
    "\n",
    "In a jupyter notebook solve the following question using python. Please upload the notebook to GitHub and provide the link submission box below.\n",
    "\n",
    "\n",
    "\n",
    "Develop a recursive function tough() that takes two nonnegative integer arguments and outputs a pattern as shown below.\n",
    "\n",
    "Hint: The first argument represents the indentation of the pattern, where the second argument -- always a pattern of 2 indicates the number *s in the longest line of *s in the pattern"
   ]
  },
  {
   "cell_type": "code",
   "execution_count": 1,
   "id": "e305756e",
   "metadata": {},
   "outputs": [
    {
     "name": "stdout",
     "output_type": "stream",
     "text": [
      "*\n",
      "**\n",
      " *\n",
      "***\n",
      " *\n",
      " **\n",
      "  *\n",
      "****\n",
      " *\n",
      " **\n",
      "  *\n",
      " ***\n",
      "  *\n",
      "  **\n",
      "   *\n"
     ]
    }
   ],
   "source": [
    "def tough(indent, n):\n",
    "    if n == 0:\n",
    "        return\n",
    "    if n == 1:\n",
    "        print(\" \" * indent + \"*\")\n",
    "    else:\n",
    "        #Recursive function calling\n",
    "        tough(indent, n - 1)\n",
    "        print(\" \" * indent + \"*\" * n)\n",
    "        tough(indent + 1, n - 1)\n",
    "\n",
    "\n",
    "tough(0, 4)"
   ]
  },
  {
   "cell_type": "code",
   "execution_count": null,
   "id": "817d6129",
   "metadata": {},
   "outputs": [],
   "source": []
  }
 ],
 "metadata": {
  "kernelspec": {
   "display_name": "Python 3 (ipykernel)",
   "language": "python",
   "name": "python3"
  },
  "language_info": {
   "codemirror_mode": {
    "name": "ipython",
    "version": 3
   },
   "file_extension": ".py",
   "mimetype": "text/x-python",
   "name": "python",
   "nbconvert_exporter": "python",
   "pygments_lexer": "ipython3",
   "version": "3.11.4"
  }
 },
 "nbformat": 4,
 "nbformat_minor": 5
}
